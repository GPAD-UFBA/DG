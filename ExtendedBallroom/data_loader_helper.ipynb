{
 "cells": [
  {
   "cell_type": "code",
   "execution_count": null,
   "metadata": {},
   "outputs": [],
   "source": [
    "from data_loader import *"
   ]
  },
  {
   "cell_type": "code",
   "execution_count": null,
   "metadata": {},
   "outputs": [],
   "source": [
    "whole_data = []\n",
    "\n",
    "# loop from 0 to the number of .hdf5 files you want to load\n",
    "nb_files = 3000\n",
    "\n",
    "for i in range(0,nb_files):\n",
    "    # Selects the file\n",
    "    file_to_load = 'h5/data_extended_ballroom_' + str(i) + '.hdf5'\n",
    "    \n",
    "    # Gets data\n",
    "    data = data_loader(file_to_load)\n",
    "    whole_data.append(data)\n",
    "    \n",
    "print(len(whole_data))"
   ]
  },
  {
   "cell_type": "code",
   "execution_count": null,
   "metadata": {},
   "outputs": [],
   "source": [
    "# LIST -> Dictionary(Data) -> Features\n",
    "# m -> the m-th example\n",
    "# feature -> ODF_SET, PeDF_FULL_SET, PeDF_PARTIAL_SET, coeffs\n",
    "# wavelet_level -> wavelet level\n",
    "# whole_data[m][feature][wavelet_level]\n",
    "\n",
    "type(whole_data[0]['ODF_SET'][0])"
   ]
  }
 ],
 "metadata": {
  "kernelspec": {
   "display_name": "Python 3",
   "language": "python",
   "name": "python3"
  },
  "language_info": {
   "codemirror_mode": {
    "name": "ipython",
    "version": 3
   },
   "file_extension": ".py",
   "mimetype": "text/x-python",
   "name": "python",
   "nbconvert_exporter": "python",
   "pygments_lexer": "ipython3",
   "version": "3.7.4"
  }
 },
 "nbformat": 4,
 "nbformat_minor": 4
}
